{
 "cells": [
  {
   "cell_type": "code",
   "execution_count": 13,
   "metadata": {
    "collapsed": true
   },
   "outputs": [],
   "source": [
    "import pandas as pd                     #导包\n",
    "import numpy as np\n",
    "import re\n",
    "res=pd.read_csv('res.csv')              #读取属性数据集\n",
    "df=pd.read_csv('df.csv')                #读取规则数据集\n",
    "df_A = df[(df['target']=='A')]          #读取属性数据集中target=A的数据集\n",
    "len_A = len(df_A)                       #计算target=A的数据集的数量\n",
    "len_B = 100000-len_A                    #计算target=B的数据集的数量"
   ]
  },
  {
   "cell_type": "code",
   "execution_count": 14,
   "metadata": {
    "collapsed": true
   },
   "outputs": [],
   "source": [
    "rules = res.ix[:,1]                     #提取规则数据集中的规则列\n",
    "new_rules = []\n",
    "reExp1 = r'X(.*?)=(.*?)[,}]'            #正则表达式过滤条件\n",
    "for tup in rules:                       #\n",
    "    invert = []\n",
    "    invert = re.compile(reExp1).findall(tup)\n",
    "    tmp = map(lambda x:int(x[0]) + int(x[1]),invert)\n",
    "    tmp = list(tmp)\n",
    "    tmp.sort()\n",
    "    tmp = \"\".join([str(i) for i in tmp])\n",
    "    new_rules.append(tmp)\n",
    "dic = dict(zip((res.ix[:,0]),new_rules))\n",
    "rev_dic = {}\n",
    "for k,v in dic.items():\n",
    "    rev_dic.setdefault(v, []).append(k)"
   ]
  },
  {
   "cell_type": "code",
   "execution_count": 15,
   "metadata": {
    "collapsed": false
   },
   "outputs": [],
   "source": [
    "d={'819': [572, 581, 1593, 1601, 2084, 2085, 2097, 2346, 2347, 2359],\n",
    " '2519': [31434, 31443, 48261, 48270, 51163, 51408],\n",
    " '31214': [21648, 21651, 21652, 21669, 21674, 22189, 22277, 22302]}"
   ]
  },
  {
   "cell_type": "code",
   "execution_count": null,
   "metadata": {
    "collapsed": true
   },
   "outputs": [],
   "source": []
  },
  {
   "cell_type": "code",
   "execution_count": 16,
   "metadata": {
    "collapsed": false
   },
   "outputs": [
    {
     "data": {
      "text/html": [
       "<div>\n",
       "<table border=\"1\" class=\"dataframe\">\n",
       "  <thead>\n",
       "    <tr style=\"text-align: right;\">\n",
       "      <th></th>\n",
       "      <th>rules</th>\n",
       "      <th>interest</th>\n",
       "    </tr>\n",
       "  </thead>\n",
       "  <tbody>\n",
       "    <tr>\n",
       "      <th>0</th>\n",
       "      <td>{X2=1,X10=2,X12=2} =&gt; {target=A}</td>\n",
       "      <td>0.033494</td>\n",
       "    </tr>\n",
       "    <tr>\n",
       "      <th>1</th>\n",
       "      <td>{X4=4,X15=4} =&gt; {target=A}</td>\n",
       "      <td>0.156718</td>\n",
       "    </tr>\n",
       "    <tr>\n",
       "      <th>2</th>\n",
       "      <td>{X1=1,X4=1,X14=5} =&gt; {target=A}</td>\n",
       "      <td>0.032131</td>\n",
       "    </tr>\n",
       "  </tbody>\n",
       "</table>\n",
       "</div>"
      ],
      "text/plain": [
       "                              rules  interest\n",
       "0  {X2=1,X10=2,X12=2} => {target=A}  0.033494\n",
       "1        {X4=4,X15=4} => {target=A}  0.156718\n",
       "2   {X1=1,X4=1,X14=5} => {target=A}  0.032131"
      ]
     },
     "execution_count": 16,
     "metadata": {},
     "output_type": "execute_result"
    }
   ],
   "source": [
    "rul = []\n",
    "interest =[]\n",
    "for k,v in d.items():\n",
    "    NN = []\n",
    "    for j in v:\n",
    "        ex = rules[j-1]\n",
    "        invert = []\n",
    "        invert = re.compile(reExp1).findall(ex)\n",
    "        tmpe = list(map(lambda x :(int(x[0]),int(x[1])),invert))\n",
    "        #tmpe = list(tmpe)\n",
    "        TL = 74823*[True]\n",
    "        for sing_tmpe in tmpe:\n",
    "            b = df_A.ix[:,sing_tmpe[0]] == sing_tmpe[1]\n",
    "            TL = TL & b\n",
    "            A = sum(TL)\n",
    "        inter = (100000*A - A*A)/(len_A*len_B)\n",
    "        NN.append(inter)\n",
    "    N = max(NN)\n",
    "    interest.append(N)\n",
    "    rul.append(rules[v[NN.index(max(NN))]])\n",
    "pd.DataFrame({'interest':interest,'rules':rul},columns=['rules','interest'])"
   ]
  },
  {
   "cell_type": "code",
   "execution_count": null,
   "metadata": {
    "collapsed": false
   },
   "outputs": [],
   "source": []
  },
  {
   "cell_type": "code",
   "execution_count": 22,
   "metadata": {
    "collapsed": false
   },
   "outputs": [],
   "source": []
  },
  {
   "cell_type": "code",
   "execution_count": null,
   "metadata": {
    "collapsed": false
   },
   "outputs": [],
   "source": []
  },
  {
   "cell_type": "code",
   "execution_count": null,
   "metadata": {
    "collapsed": true
   },
   "outputs": [],
   "source": []
  }
 ],
 "metadata": {
  "anaconda-cloud": {},
  "kernelspec": {
   "display_name": "Python [default]",
   "language": "python",
   "name": "python3"
  },
  "language_info": {
   "codemirror_mode": {
    "name": "ipython",
    "version": 3
   },
   "file_extension": ".py",
   "mimetype": "text/x-python",
   "name": "python",
   "nbconvert_exporter": "python",
   "pygments_lexer": "ipython3",
   "version": "3.5.2"
  }
 },
 "nbformat": 4,
 "nbformat_minor": 0
}
