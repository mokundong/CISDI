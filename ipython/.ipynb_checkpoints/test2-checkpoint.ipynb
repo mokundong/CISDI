{
 "cells": [
  {
   "cell_type": "code",
   "execution_count": 1,
   "metadata": {
    "collapsed": false
   },
   "outputs": [],
   "source": [
    "import pandas as pd\n",
    "import numpy as np\n",
    "import os\n",
    "import re"
   ]
  },
  {
   "cell_type": "code",
   "execution_count": 2,
   "metadata": {
    "collapsed": false
   },
   "outputs": [],
   "source": [
    "res=pd.read_csv('res.csv')\n",
    "df=pd.read_csv('df.csv')\n",
    "df_A = df[(df['target']=='A')]"
   ]
  },
  {
   "cell_type": "code",
   "execution_count": 56,
   "metadata": {
    "collapsed": false
   },
   "outputs": [],
   "source": [
    "rules = res.ix[:,1]\n",
    "new_rules = []\n",
    "reExp1 = r'X(.*?)=(.*?)[,}]'\n",
    "for tup in rules:\n",
    "    invert = []\n",
    "    invert = re.compile(reExp1).findall(tup)\n",
    "    tmp = map(lambda x:int(x[0]) + int(x[1]),invert)\n",
    "    tmp = list(tmp)\n",
    "    tmp.sort()\n",
    "    tmp = \"\".join([str(i) for i in tmp])\n",
    "    new_rules.append(tmp)\n",
    "dic = dict(zip((res.ix[:,0]-1),new_rules))\n",
    "rev_dic = {}\n",
    "for k,v in dic.items():\n",
    "    rev_dic.setdefault(v, []).append(k)"
   ]
  },
  {
   "cell_type": "code",
   "execution_count": 83,
   "metadata": {
    "collapsed": false
   },
   "outputs": [],
   "source": [
    "a=rev_dic['455']\n",
    "x = []\n",
    "NN = []\n",
    "rul = []\n",
    "for i in a:\n",
    "    ex = rules[i]\n",
    "    invert = []\n",
    "    invert = re.compile(reExp1).findall(ex)\n",
    "    tmpe = map(lambda x :(int(x[0]),int(x[1])),invert)\n",
    "    tmpe = list(tmpe)\n",
    "    TL = 74823*[True]\n",
    "    IN = []\n",
    "    for sing_tmpe in tmpe:\n",
    "        b = df_A.ix[:,sing_tmpe[0]] == sing_tmpe[1]\n",
    "        TL = TL & b\n",
    "        A = sum(TL)\n",
    "    inter = (100000*A - A*A)/(74823*25177)\n",
    "    NN.append(inter)\n",
    "    N = max(NN)\n",
    "    rul = rules[a[NN.index(max(NN))]]"
   ]
  },
  {
   "cell_type": "code",
   "execution_count": 84,
   "metadata": {
    "collapsed": false
   },
   "outputs": [
    {
     "data": {
      "text/plain": [
       "0.035223016430120095"
      ]
     },
     "execution_count": 84,
     "metadata": {},
     "output_type": "execute_result"
    }
   ],
   "source": [
    "N"
   ]
  },
  {
   "cell_type": "code",
   "execution_count": 85,
   "metadata": {
    "collapsed": false
   },
   "outputs": [
    {
     "data": {
      "text/plain": [
       "'{X1=3,X2=3,X4=1} => {target=A}'"
      ]
     },
     "execution_count": 85,
     "metadata": {},
     "output_type": "execute_result"
    }
   ],
   "source": [
    "rul"
   ]
  },
  {
   "cell_type": "code",
   "execution_count": null,
   "metadata": {
    "collapsed": true
   },
   "outputs": [],
   "source": []
  },
  {
   "cell_type": "code",
   "execution_count": null,
   "metadata": {
    "collapsed": true
   },
   "outputs": [],
   "source": []
  },
  {
   "cell_type": "code",
   "execution_count": null,
   "metadata": {
    "collapsed": true
   },
   "outputs": [],
   "source": []
  },
  {
   "cell_type": "code",
   "execution_count": null,
   "metadata": {
    "collapsed": true
   },
   "outputs": [],
   "source": []
  },
  {
   "cell_type": "code",
   "execution_count": null,
   "metadata": {
    "collapsed": true
   },
   "outputs": [],
   "source": []
  },
  {
   "cell_type": "code",
   "execution_count": null,
   "metadata": {
    "collapsed": true
   },
   "outputs": [],
   "source": []
  }
 ],
 "metadata": {
  "anaconda-cloud": {},
  "kernelspec": {
   "display_name": "Python [Root]",
   "language": "python",
   "name": "Python [Root]"
  },
  "language_info": {
   "codemirror_mode": {
    "name": "ipython",
    "version": 3
   },
   "file_extension": ".py",
   "mimetype": "text/x-python",
   "name": "python",
   "nbconvert_exporter": "python",
   "pygments_lexer": "ipython3",
   "version": "3.5.2"
  }
 },
 "nbformat": 4,
 "nbformat_minor": 0
}
