{
 "cells": [
  {
   "cell_type": "code",
   "execution_count": 2,
   "metadata": {
    "collapsed": false
   },
   "outputs": [
    {
     "data": {
      "text/plain": [
       "74823"
      ]
     },
     "execution_count": 2,
     "metadata": {},
     "output_type": "execute_result"
    }
   ],
   "source": [
    "import pandas as pd                     #导包\n",
    "import numpy as np\n",
    "import re\n",
    "res=pd.read_csv('res.csv')              #读取属性数据集\n",
    "df=pd.read_csv('df.csv')                #读取规则数据集\n",
    "df_A = df[(df['target']=='A')]          #读取属性数据集中target=A的数据集\n",
    "len_A = len(df_A)                       #计算target=A的数据集的数量\n",
    "len_B = 100000-len_A                    #计算target=B的数据集的数量"
   ]
  },
  {
   "cell_type": "code",
   "execution_count": null,
   "metadata": {
    "collapsed": true
   },
   "outputs": [],
   "source": [
    "rules = res.ix[:,1]                     #提取规则数据集中的规则列\n",
    "new_rules = []\n",
    "reExp1 = r'X(.*?)=(.*?)[,}]'            #正则表达式过滤条件\n",
    "for tup in rules:                       #\n",
    "    invert = []\n",
    "    invert = re.compile(reExp1).findall(tup)\n",
    "    tmp = map(lambda x:int(x[0]) + int(x[1]),invert)\n",
    "    tmp = list(tmp)\n",
    "    tmp.sort()\n",
    "    tmp = \"\".join([str(i) for i in tmp])\n",
    "    new_rules.append(tmp)\n",
    "dic = dict(zip((res.ix[:,0]),new_rules))\n",
    "rev_dic = {}\n",
    "for k,v in dic.items():\n",
    "    rev_dic.setdefault(v, []).append(k)"
   ]
  },
  {
   "cell_type": "code",
   "execution_count": null,
   "metadata": {
    "collapsed": true
   },
   "outputs": [],
   "source": [
    "rul = []\n",
    "for k,v in rev_dic.items():\n",
    "    l=[]\n",
    "    for j in v:\n",
    "        ex = rules[j-1]\n",
    "        NN = []\n",
    "        invert = []\n",
    "        invert = re.compile(reExp1).findall(ex)\n",
    "        tmpe = map(lambda x :(int(x[0]),int(x[1])),invert)\n",
    "        tmpe = list(tmpe)\n",
    "        TL = 74823*[True]\n",
    "        IN = []\n",
    "        for sing_tmpe in tmpe:\n",
    "            b = df_A.ix[:,sing_tmpe[0]] == sing_tmpe[1]\n",
    "            TL = TL & b\n",
    "            A = sum(TL)\n",
    "        inter = (100000*A - A*A)/(len_A*len_B)\n",
    "        NN.append(inter)\n",
    "        N = max(NN)\n",
    "        rul = rules[v[NN.index(max(NN))]]"
   ]
  }
 ],
 "metadata": {
  "anaconda-cloud": {},
  "kernelspec": {
   "display_name": "Python [Root]",
   "language": "python",
   "name": "Python [Root]"
  },
  "language_info": {
   "codemirror_mode": {
    "name": "ipython",
    "version": 3
   },
   "file_extension": ".py",
   "mimetype": "text/x-python",
   "name": "python",
   "nbconvert_exporter": "python",
   "pygments_lexer": "ipython3",
   "version": "3.5.2"
  }
 },
 "nbformat": 4,
 "nbformat_minor": 2
}
