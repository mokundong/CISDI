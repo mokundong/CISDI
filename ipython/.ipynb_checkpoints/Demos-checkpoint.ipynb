{
 "cells": [
  {
   "cell_type": "code",
   "execution_count": 1,
   "metadata": {
    "collapsed": true
   },
   "outputs": [],
   "source": [
    "import pandas as pd                     #导包\n",
    "import numpy as np\n",
    "import re\n",
    "res=pd.read_csv('res.csv')              #读取属性数据集\n",
    "df=pd.read_csv('df.csv')                #读取规则数据集\n",
    "df_A = df[(df['target']=='A')]          #读取属性数据集中target=A的数据集\n",
    "len_A = len(df_A)                       #计算target=A的数据集的数量\n",
    "len_B = 100000-len_A                    #计算target=B的数据集的数量"
   ]
  },
  {
   "cell_type": "code",
   "execution_count": 17,
   "metadata": {
    "collapsed": true
   },
   "outputs": [],
   "source": [
    "###################数据预处理###########################\n",
    "rules = res.ix[:,1]                                     #提取规则数据集中的规则列\n",
    "new_rules = []                                          #创建一个list存放计算过后的规则\n",
    "reExp1 = r'X(.*?)=(.*?)[,}]'                            #正则表达式过滤条件(提取等号两边的数值，组成一个tuple)\n",
    "for tup in rules:                                       #遍历所有规则------------>复杂度O(R)\n",
    "    invert = []                                         #创建一个list存放正则后的结果\n",
    "    invert = re.compile(reExp1).findall(tup)\n",
    "    tmp = map(lambda x:int(x[0]) + int(x[1]),invert)    #将每个tuple中的数值相加\n",
    "    tmp = list(tmp)                                     #将结果转成list类型\n",
    "    tmp.sort()                                          #将list中数值从小到大排序\n",
    "    tmp = \"\".join([str(i) for i in tmp])                #将数值合并成一个数字，(例如[2,8,10]-->[2810])\n",
    "    new_rules.append(tmp)                               #将结果添加到new_rules\n",
    "dic = dict(zip((res.ix[:,0]),new_rules))                #新建一个字典，key=规则序号，values=新的rules\n",
    "####################按照相互等价的为一类分类############\n",
    "rev_dic = {}                                            #新建一个字典存放等价规则分类后的规则，key=rules，values=具有相同rules的rules序号                                     \n",
    "for k,v in dic.items():                                 #遍历dic---------------->复杂度O(R)\n",
    "    rev_dic.setdefault(v, []).append(k)                 #将相同规则的序号放到一起--->复杂度O(1)"
   ]
  },
  {
   "cell_type": "code",
   "execution_count": 18,
   "metadata": {
    "collapsed": false
   },
   "outputs": [
    {
     "data": {
      "text/plain": [
       "1495"
      ]
     },
     "execution_count": 18,
     "metadata": {},
     "output_type": "execute_result"
    }
   ],
   "source": [
    "len(rev_dic)"
   ]
  },
  {
   "cell_type": "code",
   "execution_count": null,
   "metadata": {
    "collapsed": false
   },
   "outputs": [],
   "source": [
    "d={'819': [572, 581, 1593, 1601, 2084, 2085, 2097, 2346, 2347, 2359],\n",
    " '2519': [31434, 31443, 48261, 48270, 51163, 51408],\n",
    " '31214': [21648, 21651, 21652, 21669, 21674, 22189, 22277, 22302]}\n",
    "d"
   ]
  },
  {
   "cell_type": "code",
   "execution_count": null,
   "metadata": {
    "collapsed": false
   },
   "outputs": [],
   "source": [
    "rul = []                                                           #新建list存放规则\n",
    "interest =[]                                                       #新建list存放每个类最大的interest值\n",
    "for k,v in rev_dic.items():                                        #\n",
    "    NN = []                                                        #新建list存放每个key中的所有interest值\n",
    "    for j in v:                                                    #循环每个key对应的values--->前两个循环O(R)\n",
    "        ex = rules[j-1]\n",
    "        invert = []\n",
    "        invert = re.compile(reExp1).findall(ex)\n",
    "        tmpe = list(map(lambda x :(int(x[0]),int(x[1])),invert))\n",
    "        #tmpe = list(tmpe)\n",
    "        TL = 74823*[True]\n",
    "        for sing_tmpe in tmpe:                                     #循环每个value对应的规则的每一个项---->O(K)\n",
    "            b = df_A.ix[:,sing_tmpe[0]] == sing_tmpe[1]\n",
    "            TL = TL & b\n",
    "            A = sum(TL)\n",
    "        inter = (100000*A - A*A)/(len_A*len_B)\n",
    "        NN.append(inter)\n",
    "    N = max(NN)\n",
    "    interest.append(N)\n",
    "    rul.append(rules[v[NN.index(max(NN))]])\n",
    "pd.DataFrame({'interest':interest,'rules':rul},columns=['rules','interest'])"
   ]
  },
  {
   "cell_type": "code",
   "execution_count": null,
   "metadata": {
    "collapsed": false
   },
   "outputs": [],
   "source": [
    "rev_dict"
   ]
  },
  {
   "cell_type": "code",
   "execution_count": null,
   "metadata": {
    "collapsed": false
   },
   "outputs": [],
   "source": []
  },
  {
   "cell_type": "code",
   "execution_count": null,
   "metadata": {
    "collapsed": true
   },
   "outputs": [],
   "source": []
  }
 ],
 "metadata": {
  "kernelspec": {
   "display_name": "Python [default]",
   "language": "python",
   "name": "python3"
  },
  "language_info": {
   "codemirror_mode": {
    "name": "ipython",
    "version": 3
   },
   "file_extension": ".py",
   "mimetype": "text/x-python",
   "name": "python",
   "nbconvert_exporter": "python",
   "pygments_lexer": "ipython3",
   "version": "3.5.2"
  }
 },
 "nbformat": 4,
 "nbformat_minor": 0
}
