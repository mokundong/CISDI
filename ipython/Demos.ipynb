{
 "cells": [
  {
   "cell_type": "code",
   "execution_count": 39,
   "metadata": {
    "collapsed": false
   },
   "outputs": [],
   "source": [
    "# -*- coding: utf-8 -*-\n",
    "\"\"\"\n",
    "Created on Thu Jun 15 21:13:40 2017\n",
    "\n",
    "@author: MKD\n",
    "\"\"\"\n",
    "import pandas as pd\n",
    "import time\n",
    "import re\n",
    "\n",
    "def findMaxloca(lists):\n",
    "    key = [i for i in range(len(lists))]\n",
    "    dic = dict(zip(key,lists))\n",
    "    dicc = {}\n",
    "    for k,v in dic.items():\n",
    "        dicc.setdefault(v,[]).append(k)\n",
    "    return dicc[max(lists)]\n",
    "\n",
    "\n",
    "def loadData(dfpath,respath):\n",
    "    df = pd.read_csv(dfpath)\n",
    "    res = pd.read_csv(respath)\n",
    "    df_A = df[(df['target'] == 'A')]\n",
    "    len_A = len(df_A)\n",
    "    len_B = 100000 - len_A\n",
    "    return res,df,df_A,len_A,len_B\n",
    "    \n",
    "def classRules(res,rules):\n",
    "    starttime = time.time()\n",
    "    new_rules = []\n",
    "    rev_dic = {}\n",
    "    reExp = r'X(.*?)=(.*?)[,}]'\n",
    "    for rule in rules:\n",
    "        invert = []\n",
    "        invert = re.compile(reExp).findall(rule)\n",
    "        tmp_1 = map(lambda x:int(x[0]) + int(x[1]),invert)\n",
    "        tmp_2 = list(tmp_1)\n",
    "        tmp_2.sort()\n",
    "        tmp = \"\".join([str(i) for i in tmp_2])\n",
    "        new_rules.append(tmp)\n",
    "    dic_rul = dict(zip((res.ix[:,0]),new_rules))\n",
    "    for k,v in dic_rul.items():\n",
    "        rev_dic.setdefault(v,[]).append(k)\n",
    "    endtime = time.time()\n",
    "    totaltime = endtime - starttime\n",
    "    return rev_dic,totaltime  \n",
    "\n",
    "def findMaxInterestOfEachclass(res,rules,N,rev_dic,len_A,len_B):\n",
    "    starttime = time.time()\n",
    "    dic_sup = dict(zip((res.ix[:,0]),res.ix[:,2]))\n",
    "    \n",
    "    rulesss = []\n",
    "    interest = []\n",
    "    for k,v in rev_dic.items():\n",
    "        interOfEachRule = []\n",
    "        for num in v:\n",
    "            sup = dic_sup[num]\n",
    "            inter = ((N*sup)*(N-N*sup))/(len_A*len_B)\n",
    "            interOfEachRule.append(inter)\n",
    "        MaxInterOfEachRule = max(interOfEachRule)\n",
    "        interest.append(MaxInterOfEachRule)\n",
    "        lists = findMaxloca(interOfEachRule)\n",
    "        #ruless.append(rules[v[interOfEachRule.index(MaxInterOfEachRule)]])\n",
    "        ruless = []\n",
    "        for i in lists:\n",
    "            ruless.append(rules[v[lists.index(i)]])\n",
    "        rulesss.append(ruless)\n",
    "    endtime = time.time()\n",
    "    totaltime = endtime - starttime\n",
    "    result = dict(zip(rules,interest))\n",
    "    return result,totaltime\n",
    "\n",
    "if __name__ == '__main__':\n",
    "    N = 10000\n",
    "    dfpath = 'df.csv'\n",
    "    respath = 'res.csv'\n",
    "    #加载数据\n",
    "    res,df,df_A,len_A,len_B = loadData(dfpath,respath)\n",
    "    rules = res.ix[:,1]\n",
    "    result1,time1 = classRules(res,rules)\n",
    "    result2,time2 = findMaxInterestOfEachclass(res,rules,N,rev_dic,len_A,len_B)\n",
    "    result_1 = pd.DataFrame.from_dict(result1,orient='index')\n",
    "    result_2 = pd.DataFrame.from_dict(result2,orient='index')"
   ]
  },
  {
   "cell_type": "code",
   "execution_count": null,
   "metadata": {
    "collapsed": false
   },
   "outputs": [],
   "source": []
  },
  {
   "cell_type": "code",
   "execution_count": 47,
   "metadata": {
    "collapsed": false
   },
   "outputs": [
    {
     "data": {
      "text/plain": [
       "9"
      ]
     },
     "execution_count": 47,
     "metadata": {},
     "output_type": "execute_result"
    }
   ],
   "source": [
    "a=[5,6,7,8,9,9,9]\n",
    "key = [i for i in range(len(a))]\n",
    "dic = dict(zip(key,a))\n",
    "b=max(a)\n",
    "\n"
   ]
  },
  {
   "cell_type": "code",
   "execution_count": null,
   "metadata": {
    "collapsed": false
   },
   "outputs": [],
   "source": []
  },
  {
   "cell_type": "code",
   "execution_count": null,
   "metadata": {
    "collapsed": true
   },
   "outputs": [],
   "source": []
  }
 ],
 "metadata": {
  "anaconda-cloud": {},
  "kernelspec": {
   "display_name": "Python [Root]",
   "language": "python",
   "name": "Python [Root]"
  },
  "language_info": {
   "codemirror_mode": {
    "name": "ipython",
    "version": 3
   },
   "file_extension": ".py",
   "mimetype": "text/x-python",
   "name": "python",
   "nbconvert_exporter": "python",
   "pygments_lexer": "ipython3",
   "version": "3.5.2"
  }
 },
 "nbformat": 4,
 "nbformat_minor": 0
}
