{
 "cells": [
  {
   "cell_type": "code",
   "execution_count": 36,
   "metadata": {
    "collapsed": false
   },
   "outputs": [],
   "source": [
    "import pandas as pd\n",
    "import numpy as np\n",
    "import os\n",
    "import re"
   ]
  },
  {
   "cell_type": "code",
   "execution_count": 37,
   "metadata": {
    "collapsed": false
   },
   "outputs": [],
   "source": [
    "res=pd.read_csv('res.csv')\n",
    "df=pd.read_csv('df.csv')\n",
    "df_A = df[(df['target']=='A')]"
   ]
  },
  {
   "cell_type": "code",
   "execution_count": 38,
   "metadata": {
    "collapsed": false
   },
   "outputs": [],
   "source": [
    "rules = res.ix[:,1]\n",
    "new_rules = []\n",
    "reExp1 = r'X(.*?)=(.*?)[,}]'\n",
    "for tup in rules:\n",
    "    invert = []\n",
    "    invert = re.compile(reExp1).findall(tup)\n",
    "    tmp = map(lambda x:int(x[0]) + int(x[1]),invert)\n",
    "    tmp = list(tmp)\n",
    "    tmp.sort()\n",
    "    tmp = \"\".join([str(i) for i in tmp])\n",
    "    new_rules.append(tmp)\n",
    "dic = dict(zip((res.ix[:,0]-1),new_rules))\n",
    "rev_dic = {}\n",
    "for k,v in dic.items():\n",
    "    rev_dic.setdefault(v, []).append(k)"
   ]
  },
  {
   "cell_type": "code",
   "execution_count": null,
   "metadata": {
    "collapsed": true
   },
   "outputs": [],
   "source": []
  },
  {
   "cell_type": "code",
   "execution_count": 23,
   "metadata": {
    "collapsed": false
   },
   "outputs": [],
   "source": [
    "\"\"\"\n",
    "m=[]\n",
    "a=[]\n",
    "for k,v in rev_dic.items():\n",
    "    l=[]\n",
    "    for j in v:\n",
    "        ex = rules[j]\n",
    "        reExp2 = r'X(.*?)=(.*?)[,}]'\n",
    "        invert = []\n",
    "        invert = re.compile(reExp2).findall(ex)\n",
    "        tmp = map(lambda x :(int(x[0]),int(x[1])),invert)\n",
    "        tmp = list(tmp)\n",
    "        n=[]\n",
    "        for h in tmp:\n",
    "            n.append(h)\n",
    "        l.append(h)\n",
    "        m.append(ex)\n",
    "    a.append(k)\n",
    "\"\"\""
   ]
  },
  {
   "cell_type": "code",
   "execution_count": 103,
   "metadata": {
    "collapsed": false
   },
   "outputs": [
    {
     "name": "stdout",
     "output_type": "stream",
     "text": [
      "[(1, 4), (2, 2), (4, 1)]\n",
      "[(1, 4), (3, 1), (4, 1)]\n",
      "[(1, 3), (3, 2), (4, 1)]\n",
      "[(2, 2), (3, 2), (4, 1)]\n",
      "[(1, 3), (2, 3), (4, 1)]\n",
      "[(2, 3), (3, 1), (4, 1)]\n",
      "[(1, 4), (2, 2), (3, 2)]\n",
      "[(1, 4), (2, 3), (3, 1)]\n",
      "[(1, 3), (2, 3), (3, 2)]\n"
     ]
    }
   ],
   "source": [
    "a=rev_dic['455']\n",
    "x=[]\n",
    "NN=[]\n",
    "for i in a:\n",
    "    ex = rules[i]\n",
    "    invert = []\n",
    "    invert = re.compile(reExp1).findall(ex)\n",
    "    tmpe = map(lambda x :(int(x[0]),int(x[1])),invert)\n",
    "    tmpe = list(tmpe)\n",
    "    print(tmpe)"
   ]
  },
  {
   "cell_type": "code",
   "execution_count": 104,
   "metadata": {
    "collapsed": false
   },
   "outputs": [],
   "source": [
    "    TL = 74823*[True]\n",
    "    IN = []\n",
    "    for ii,jj in tmpe:\n",
    "        b = df_A.ix[:,ii] == jj\n",
    "        TL = TL & b\n",
    "        A = sum(TL)\n",
    "        inter = (100000*A - A*A)/(74823*25177)\n",
    "        IN.append(inter)\n",
    "        NN.append(IN)"
   ]
  },
  {
   "cell_type": "code",
   "execution_count": 102,
   "metadata": {
    "collapsed": false
   },
   "outputs": [
    {
     "data": {
      "text/plain": [
       "[]"
      ]
     },
     "execution_count": 102,
     "metadata": {},
     "output_type": "execute_result"
    }
   ],
   "source": [
    "x"
   ]
  },
  {
   "cell_type": "code",
   "execution_count": 71,
   "metadata": {
    "collapsed": false
   },
   "outputs": [
    {
     "data": {
      "text/plain": [
       "[31024, 31038, 31305, 31307, 31885, 31998, 42082, 42773, 48785]"
      ]
     },
     "execution_count": 71,
     "metadata": {},
     "output_type": "execute_result"
    }
   ],
   "source": [
    "a"
   ]
  },
  {
   "cell_type": "code",
   "execution_count": 86,
   "metadata": {
    "collapsed": false
   },
   "outputs": [
    {
     "name": "stdout",
     "output_type": "stream",
     "text": [
      "{X1=4,X2=2,X4=1} => {target=A} {X1=4,X3=1,X4=1} => {target=A} {X1=3,X3=2,X4=1} => {target=A}\n"
     ]
    }
   ],
   "source": [
    "print(rules[31024],rules[31038],rules[31305])"
   ]
  },
  {
   "cell_type": "code",
   "execution_count": null,
   "metadata": {
    "collapsed": true
   },
   "outputs": [],
   "source": []
  },
  {
   "cell_type": "code",
   "execution_count": null,
   "metadata": {
    "collapsed": true
   },
   "outputs": [],
   "source": []
  },
  {
   "cell_type": "code",
   "execution_count": null,
   "metadata": {
    "collapsed": true
   },
   "outputs": [],
   "source": []
  },
  {
   "cell_type": "code",
   "execution_count": null,
   "metadata": {
    "collapsed": true
   },
   "outputs": [],
   "source": []
  },
  {
   "cell_type": "code",
   "execution_count": null,
   "metadata": {
    "collapsed": true
   },
   "outputs": [],
   "source": []
  },
  {
   "cell_type": "code",
   "execution_count": null,
   "metadata": {
    "collapsed": true
   },
   "outputs": [],
   "source": []
  },
  {
   "cell_type": "code",
   "execution_count": null,
   "metadata": {
    "collapsed": true
   },
   "outputs": [],
   "source": []
  },
  {
   "cell_type": "code",
   "execution_count": null,
   "metadata": {
    "collapsed": true
   },
   "outputs": [],
   "source": [
    "#TL=[True for i in range(74823)]\n",
    "TL=74823*[True]\n",
    "IN =[]\n",
    "for i,j in t:\n",
    "    a = df_A.ix[:,i] == j\n",
    "    TL = TL & a\n",
    "    A = sum(TL)\n",
    "    inter = (10000*A - A*A)/(74823*25177)\n",
    "    IN.append(inter)"
   ]
  }
 ],
 "metadata": {
  "anaconda-cloud": {},
  "kernelspec": {
   "display_name": "Python [default]",
   "language": "python",
   "name": "python3"
  },
  "language_info": {
   "codemirror_mode": {
    "name": "ipython",
    "version": 3
   },
   "file_extension": ".py",
   "mimetype": "text/x-python",
   "name": "python",
   "nbconvert_exporter": "python",
   "pygments_lexer": "ipython3",
   "version": "3.5.2"
  }
 },
 "nbformat": 4,
 "nbformat_minor": 0
}
